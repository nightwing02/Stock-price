{
 "cells": [
  {
   "cell_type": "code",
   "execution_count": 1,
   "id": "0d7b691e-9aec-4e86-ac2b-461a8cdf6e5b",
   "metadata": {},
   "outputs": [],
   "source": [
    "import numpy as np\n",
    "import pandas as pd\n",
    "import seaborn as sns\n",
    "import matplotlib.pyplot as plt\n",
    "import yfinance as yf\n"
   ]
  },
  {
   "cell_type": "code",
   "execution_count": 28,
   "id": "18a93401-cc0d-4c39-833f-93ef4ac81adc",
   "metadata": {
    "tags": []
   },
   "outputs": [
    {
     "name": "stdin",
     "output_type": "stream",
     "text": [
      "Enter the code of the stock:-  GC=F\n"
     ]
    },
    {
     "name": "stdout",
     "output_type": "stream",
     "text": [
      "[*********************100%***********************]  1 of 1 completed\n"
     ]
    },
    {
     "data": {
      "text/html": [
       "<div>\n",
       "<style scoped>\n",
       "    .dataframe tbody tr th:only-of-type {\n",
       "        vertical-align: middle;\n",
       "    }\n",
       "\n",
       "    .dataframe tbody tr th {\n",
       "        vertical-align: top;\n",
       "    }\n",
       "\n",
       "    .dataframe thead th {\n",
       "        text-align: right;\n",
       "    }\n",
       "</style>\n",
       "<table border=\"1\" class=\"dataframe\">\n",
       "  <thead>\n",
       "    <tr style=\"text-align: right;\">\n",
       "      <th></th>\n",
       "      <th>Open</th>\n",
       "      <th>High</th>\n",
       "      <th>Low</th>\n",
       "      <th>Close</th>\n",
       "      <th>Volume</th>\n",
       "    </tr>\n",
       "    <tr>\n",
       "      <th>Date</th>\n",
       "      <th></th>\n",
       "      <th></th>\n",
       "      <th></th>\n",
       "      <th></th>\n",
       "      <th></th>\n",
       "    </tr>\n",
       "  </thead>\n",
       "  <tbody>\n",
       "    <tr>\n",
       "      <th>2008-01-02</th>\n",
       "      <td>848.700012</td>\n",
       "      <td>857.799988</td>\n",
       "      <td>846.400024</td>\n",
       "      <td>857.000000</td>\n",
       "      <td>130</td>\n",
       "    </tr>\n",
       "    <tr>\n",
       "      <th>2008-01-03</th>\n",
       "      <td>863.000000</td>\n",
       "      <td>865.500000</td>\n",
       "      <td>856.299988</td>\n",
       "      <td>866.400024</td>\n",
       "      <td>181</td>\n",
       "    </tr>\n",
       "    <tr>\n",
       "      <th>2008-01-04</th>\n",
       "      <td>861.400024</td>\n",
       "      <td>865.500000</td>\n",
       "      <td>860.200012</td>\n",
       "      <td>863.099976</td>\n",
       "      <td>28</td>\n",
       "    </tr>\n",
       "    <tr>\n",
       "      <th>2008-01-07</th>\n",
       "      <td>860.900024</td>\n",
       "      <td>860.900024</td>\n",
       "      <td>857.400024</td>\n",
       "      <td>859.599976</td>\n",
       "      <td>4</td>\n",
       "    </tr>\n",
       "    <tr>\n",
       "      <th>2008-01-08</th>\n",
       "      <td>861.599976</td>\n",
       "      <td>879.400024</td>\n",
       "      <td>861.599976</td>\n",
       "      <td>878.000000</td>\n",
       "      <td>21</td>\n",
       "    </tr>\n",
       "  </tbody>\n",
       "</table>\n",
       "</div>"
      ],
      "text/plain": [
       "                  Open        High         Low       Close  Volume\n",
       "Date                                                              \n",
       "2008-01-02  848.700012  857.799988  846.400024  857.000000     130\n",
       "2008-01-03  863.000000  865.500000  856.299988  866.400024     181\n",
       "2008-01-04  861.400024  865.500000  860.200012  863.099976      28\n",
       "2008-01-07  860.900024  860.900024  857.400024  859.599976       4\n",
       "2008-01-08  861.599976  879.400024  861.599976  878.000000      21"
      ]
     },
     "execution_count": 28,
     "metadata": {},
     "output_type": "execute_result"
    }
   ],
   "source": [
    "stocks = input(\"Enter the code of the stock:- \")\n",
    "data=yf.download(stocks,\"2008-01-01\",\"2021-01-18\",auto_adjust=True)\n",
    "data.head()"
   ]
  },
  {
   "cell_type": "code",
   "execution_count": 29,
   "id": "284e20fc-fbd1-47c4-82ca-8ce8e38f70de",
   "metadata": {
    "tags": []
   },
   "outputs": [
    {
     "data": {
      "text/plain": [
       "(3281, 5)"
      ]
     },
     "execution_count": 29,
     "metadata": {},
     "output_type": "execute_result"
    }
   ],
   "source": [
    "data.shape"
   ]
  },
  {
   "cell_type": "code",
   "execution_count": 30,
   "id": "037ebb0f-c574-4d3b-980d-5b45b4fdec04",
   "metadata": {
    "tags": []
   },
   "outputs": [
    {
     "name": "stdout",
     "output_type": "stream",
     "text": [
      "<class 'pandas.core.frame.DataFrame'>\n",
      "DatetimeIndex: 3281 entries, 2008-01-02 to 2021-01-15\n",
      "Data columns (total 5 columns):\n",
      " #   Column  Non-Null Count  Dtype  \n",
      "---  ------  --------------  -----  \n",
      " 0   Open    3281 non-null   float64\n",
      " 1   High    3281 non-null   float64\n",
      " 2   Low     3281 non-null   float64\n",
      " 3   Close   3281 non-null   float64\n",
      " 4   Volume  3281 non-null   int64  \n",
      "dtypes: float64(4), int64(1)\n",
      "memory usage: 153.8 KB\n"
     ]
    }
   ],
   "source": [
    "data.info()"
   ]
  },
  {
   "cell_type": "code",
   "execution_count": 31,
   "id": "64873262-c519-44be-b3d9-f8309c96bd37",
   "metadata": {
    "tags": []
   },
   "outputs": [
    {
     "data": {
      "text/html": [
       "<div>\n",
       "<style scoped>\n",
       "    .dataframe tbody tr th:only-of-type {\n",
       "        vertical-align: middle;\n",
       "    }\n",
       "\n",
       "    .dataframe tbody tr th {\n",
       "        vertical-align: top;\n",
       "    }\n",
       "\n",
       "    .dataframe thead th {\n",
       "        text-align: right;\n",
       "    }\n",
       "</style>\n",
       "<table border=\"1\" class=\"dataframe\">\n",
       "  <thead>\n",
       "    <tr style=\"text-align: right;\">\n",
       "      <th></th>\n",
       "      <th>Open</th>\n",
       "      <th>High</th>\n",
       "      <th>Low</th>\n",
       "      <th>Close</th>\n",
       "      <th>Volume</th>\n",
       "    </tr>\n",
       "  </thead>\n",
       "  <tbody>\n",
       "    <tr>\n",
       "      <th>count</th>\n",
       "      <td>3281.000000</td>\n",
       "      <td>3281.000000</td>\n",
       "      <td>3281.000000</td>\n",
       "      <td>3281.000000</td>\n",
       "      <td>3281.000000</td>\n",
       "    </tr>\n",
       "    <tr>\n",
       "      <th>mean</th>\n",
       "      <td>1316.287291</td>\n",
       "      <td>1323.427614</td>\n",
       "      <td>1308.463700</td>\n",
       "      <td>1316.037885</td>\n",
       "      <td>5606.854008</td>\n",
       "    </tr>\n",
       "    <tr>\n",
       "      <th>std</th>\n",
       "      <td>262.732678</td>\n",
       "      <td>264.022456</td>\n",
       "      <td>261.294638</td>\n",
       "      <td>262.754237</td>\n",
       "      <td>29568.392331</td>\n",
       "    </tr>\n",
       "    <tr>\n",
       "      <th>min</th>\n",
       "      <td>705.000000</td>\n",
       "      <td>715.500000</td>\n",
       "      <td>681.000000</td>\n",
       "      <td>704.900024</td>\n",
       "      <td>0.000000</td>\n",
       "    </tr>\n",
       "    <tr>\n",
       "      <th>25%</th>\n",
       "      <td>1183.400024</td>\n",
       "      <td>1189.400024</td>\n",
       "      <td>1176.199951</td>\n",
       "      <td>1183.400024</td>\n",
       "      <td>41.000000</td>\n",
       "    </tr>\n",
       "    <tr>\n",
       "      <th>50%</th>\n",
       "      <td>1282.500000</td>\n",
       "      <td>1287.099976</td>\n",
       "      <td>1277.800049</td>\n",
       "      <td>1282.099976</td>\n",
       "      <td>137.000000</td>\n",
       "    </tr>\n",
       "    <tr>\n",
       "      <th>75%</th>\n",
       "      <td>1486.199951</td>\n",
       "      <td>1491.599976</td>\n",
       "      <td>1477.300049</td>\n",
       "      <td>1484.000000</td>\n",
       "      <td>442.000000</td>\n",
       "    </tr>\n",
       "    <tr>\n",
       "      <th>max</th>\n",
       "      <td>2045.500000</td>\n",
       "      <td>2063.000000</td>\n",
       "      <td>2040.000000</td>\n",
       "      <td>2051.500000</td>\n",
       "      <td>386334.000000</td>\n",
       "    </tr>\n",
       "  </tbody>\n",
       "</table>\n",
       "</div>"
      ],
      "text/plain": [
       "              Open         High          Low        Close         Volume\n",
       "count  3281.000000  3281.000000  3281.000000  3281.000000    3281.000000\n",
       "mean   1316.287291  1323.427614  1308.463700  1316.037885    5606.854008\n",
       "std     262.732678   264.022456   261.294638   262.754237   29568.392331\n",
       "min     705.000000   715.500000   681.000000   704.900024       0.000000\n",
       "25%    1183.400024  1189.400024  1176.199951  1183.400024      41.000000\n",
       "50%    1282.500000  1287.099976  1277.800049  1282.099976     137.000000\n",
       "75%    1486.199951  1491.599976  1477.300049  1484.000000     442.000000\n",
       "max    2045.500000  2063.000000  2040.000000  2051.500000  386334.000000"
      ]
     },
     "execution_count": 31,
     "metadata": {},
     "output_type": "execute_result"
    }
   ],
   "source": [
    "data.describe()"
   ]
  },
  {
   "cell_type": "code",
   "execution_count": 32,
   "id": "5000a64b-2d78-4f16-8a42-03f1475ce0c3",
   "metadata": {
    "tags": []
   },
   "outputs": [
    {
     "data": {
      "image/png": "[encoded data removed]",
      "text/plain": [
       "<Figure size 1000x700 with 1 Axes>"
      ]
     },
     "metadata": {},
     "output_type": "display_data"
    }
   ],
   "source": [
    "data.Close.plot(figsize=(10,7),color='r')\n",
    "plt.ylabel(\"{} Prices\".format(stocks))\n",
    "plt.title(\"{} Price Series\".format(stocks))\n",
    "plt.show()"
   ]
  },
  {
   "cell_type": "code",
   "execution_count": 33,
   "id": "0fa78dbd-43fb-40c8-93e5-f66aec84d446",
   "metadata": {
    "tags": []
   },
   "outputs": [
    {
     "data": {
      "text/plain": [
       "<seaborn.axisgrid.FacetGrid at 0x2325cb70c40>"
      ]
     },
     "execution_count": 33,
     "metadata": {},
     "output_type": "execute_result"
    },
    {
     "data": {
      "image/png": "[encoded data removed]",
      "text/plain": [
       "<Figure size 500x500 with 1 Axes>"
      ]
     },
     "metadata": {},
     "output_type": "display_data"
    }
   ],
   "source": [
    "sns.displot(data[\"Close\"])"
   ]
  },
  {
   "cell_type": "code",
   "execution_count": 34,
   "id": "1d9e27a4-7dab-4697-8a3f-cf37c164a51a",
   "metadata": {
    "tags": []
   },
   "outputs": [
    {
     "data": {
      "text/plain": [
       "<seaborn.axisgrid.FacetGrid at 0x2325c346cd0>"
      ]
     },
     "execution_count": 34,
     "metadata": {},
     "output_type": "execute_result"
    },
    {
     "data": {
      "image/png": "[encoded data removed]",
      "text/plain": [
       "<Figure size 500x500 with 1 Axes>"
      ]
     },
     "metadata": {},
     "output_type": "display_data"
    }
   ],
   "source": [
    "sns.displot(data[\"Open\"])"
   ]
  },
  {
   "cell_type": "code",
   "execution_count": 35,
   "id": "d22e5a85-89d7-4c55-9976-093d46849c2a",
   "metadata": {},
   "outputs": [
    {
     "data": {
      "text/plain": [
       "<seaborn.axisgrid.FacetGrid at 0x2325d058b50>"
      ]
     },
     "execution_count": 35,
     "metadata": {},
     "output_type": "execute_result"
    },
    {
     "data": {
      "image/png": "[encoded data removed]",
      "text/plain": [
       "<Figure size 500x500 with 1 Axes>"
      ]
     },
     "metadata": {},
     "output_type": "display_data"
    }
   ],
   "source": [
    "sns.displot(data[\"High\"])"
   ]
  },
  {
   "cell_type": "code",
   "execution_count": 46,
   "id": "c4a4a768-6ee9-4721-a81f-bcc9960dd700",
   "metadata": {
    "tags": []
   },
   "outputs": [],
   "source": [
    "# Conclusions\n",
    "\n",
    "# - Shape of the data\n",
    "# - How our data is distributed\n",
    "# - Its very non lineaer\n",
    "\n",
    "# Linear, Logis, Regurlarized, SVM\n",
    "\n",
    "# test_size = 0.2 20% of the data\n",
    "\n",
    "X = data.drop(\"Close\",axis=1)\n",
    "y=data['Close']"
   ]
  },
  {
   "cell_type": "code",
   "execution_count": 37,
   "id": "68fef5c3-6be0-4c3e-bbdf-8a91dc6fd877",
   "metadata": {
    "tags": []
   },
   "outputs": [
    {
     "name": "stdout",
     "output_type": "stream",
     "text": [
      "(2624, 4)\n",
      "(657, 4)\n",
      "(2624,)\n",
      "(657,)\n"
     ]
    }
   ],
   "source": [
    "from sklearn.model_selection import train_test_split\n",
    "X_train, X_test, y_train, y_test = train_test_split(X,y,test_size=0.2,random_state=0) \n",
    "print(X_train.shape)\n",
    "print(X_test.shape)\n",
    "print(y_train.shape)\n",
    "print(y_test.shape)"
   ]
  },
  {
   "cell_type": "markdown",
   "id": "d4d19d25-fd66-4538-941b-2dc26df1e945",
   "metadata": {},
   "source": [
    "# Model Evaluation"
   ]
  },
  {
   "cell_type": "code",
   "execution_count": 47,
   "id": "4382911b-fd94-4041-9066-980602f0d4e3",
   "metadata": {
    "tags": []
   },
   "outputs": [],
   "source": [
    "from sklearn.linear_model import LinearRegression\n",
    "\n",
    "lr = LinearRegression()\n",
    "lr.fit(X_train,y_train)\n",
    "pred1=lr.predict(X_test)"
   ]
  },
  {
   "cell_type": "code",
   "execution_count": 48,
   "id": "2a97e692-70f9-4414-8610-e201ff660364",
   "metadata": {
    "tags": []
   },
   "outputs": [
    {
     "data": {
      "text/plain": [
       "array([1729.403858  , 1084.16216965, 1268.19696234, 1107.60214208,\n",
       "       1363.92206279,  902.38354996, 1247.65551237, 1287.92027955,\n",
       "       1208.40577078, 1902.49597207, 1153.19432398, 1946.34793786,\n",
       "       1575.54863898, 1219.13543342,  955.61801284, 1719.02138421,\n",
       "       1372.17522077, 1320.15998277,  935.38437585, 1331.51948224,\n",
       "       1313.06078563, 1325.52847556, 1156.14406558, 1063.10704374,\n",
       "       1214.94354412, 1649.74996966, 1198.52526174, 1888.91001257,\n",
       "       1648.29309772, 1285.75848039, 1397.46720727, 1277.20063228,\n",
       "        867.33410365, 1610.63042607, 1343.04773268, 1346.85553084,\n",
       "       1307.02595286, 1071.02561811, 1228.97435669, 1164.5305458 ,\n",
       "       1368.1378064 , 1182.62892173, 1285.80130391, 1489.92350262,\n",
       "       1266.40870641, 1295.29416968, 1225.49620593, 1179.09757418,\n",
       "       1824.62377969, 1261.46267691, 1377.34497574, 1351.76951787,\n",
       "       1327.91471954, 1661.33117039, 1644.59897838, 1306.14496395,\n",
       "       1107.55421461, 1243.578508  , 1281.50120961,  897.89284699,\n",
       "       1307.43509589, 1296.01680478, 1117.09300564, 1330.8194721 ,\n",
       "       1272.80802419, 1076.57426127, 1258.63520626, 1231.71508547,\n",
       "       1167.99114652, 1244.2101231 , 1056.18541554, 1232.88548575,\n",
       "       1330.02694528, 1184.33938423,  884.66238776, 1338.69264177,\n",
       "       1661.63815435, 1510.43897492, 1184.66455793, 1235.78383377,\n",
       "       1070.26406752, 1551.34118435,  901.43300744, 1718.35868445,\n",
       "       1215.84729846, 1666.34775393, 1283.44882214, 1379.88612048,\n",
       "       1617.80270664, 1320.94336356, 1306.45709132,  904.41930424,\n",
       "       1509.26655618, 1330.35640588, 1336.50025877, 1277.53507555,\n",
       "       1509.55778449, 1296.09067583, 1273.04137962, 1268.05145487,\n",
       "       1733.32539433, 1235.72380362, 1307.33393152, 1269.18092443,\n",
       "       1244.87286512, 1731.38596486, 1204.09035896, 1289.23237863,\n",
       "       1294.55971697, 1459.14268205,  752.65789428, 1612.4485581 ,\n",
       "       1328.87907804, 1760.12888448, 1261.26956938, 1137.70497808,\n",
       "       1277.58970798, 1577.79770191, 1452.3244622 , 1186.67876737,\n",
       "       1202.91409498, 1084.08204674, 1226.07769815, 1874.73009086,\n",
       "       1246.54023474, 1420.02368351, 1757.81547659,  840.57856006,\n",
       "        925.44089945, 1408.22934785, 1783.5907459 ,  861.38009548,\n",
       "       1602.75397926, 1042.4567253 , 1310.01482971, 1574.84705561,\n",
       "       1304.69862032, 1725.73812505, 1958.70568272, 1272.26200944,\n",
       "       1233.59522658, 1249.61086444, 1104.27152156, 1199.66378041,\n",
       "       1195.77296588, 1729.65854796, 1244.7849309 , 1304.01218609,\n",
       "       1608.62647806, 1254.9474046 , 1052.30900379, 1276.51913601,\n",
       "       1085.56801774, 1287.40273146, 1735.67056675, 1285.55039395,\n",
       "       1216.39227408, 1327.26671324, 1203.23971225, 1729.84832539,\n",
       "       1485.36304455, 1604.52564696, 1473.31402745, 1196.43390332,\n",
       "       1713.47275778, 1137.74715833, 1249.89474429, 1310.66185748,\n",
       "        731.87384366, 1189.00653805, 1284.94811697, 1265.61886973,\n",
       "       1213.15559304, 1186.67200243, 1749.72854202, 1222.08275129,\n",
       "        957.46713414, 1449.33935497, 1726.55402   ,  909.47305802,\n",
       "       1188.56049234, 1921.83372007, 1341.19693529, 1123.85431928,\n",
       "       1377.98955029, 1146.15479089, 1798.60185876, 1310.96883483,\n",
       "       1210.25820166,  900.5521763 , 1332.16963167, 1900.94600967,\n",
       "       1372.83415227, 1307.65493123, 1307.87722985,  857.23376037,\n",
       "       1339.10597631, 1530.85776728, 1501.3723493 , 1392.04800996,\n",
       "       1337.87597596, 1129.15229213,  927.72772129, 1381.04910288,\n",
       "       1227.17675033, 1203.42392672, 1885.65841919, 1117.38178153,\n",
       "       1208.4018733 , 1104.44338915, 1294.7906176 , 1285.10378781,\n",
       "       1645.82541765, 1722.69539272, 1058.244798  , 1222.14934378,\n",
       "       1690.85895635, 1186.92477323, 1337.95189664, 1096.86242836,\n",
       "       1369.20432868, 1237.63380522,  898.89854015,  936.33343862,\n",
       "       1244.98451663, 1823.48444787, 1132.54386753, 1298.38960038,\n",
       "       1201.11734561, 1198.22185581, 1452.80272409, 1593.31148667,\n",
       "        918.76418286, 1671.3570939 , 1838.21703271, 1290.54809381,\n",
       "       1134.86119978, 1266.79919154, 1414.31783081, 1133.24873107,\n",
       "       1491.96150087, 1170.43822878, 1244.82240849, 1314.03372327,\n",
       "       1326.31175649, 1571.59949084, 1186.32597891, 1332.38491068,\n",
       "       1635.91539376, 1334.22900532, 1337.74281167, 1286.63368179,\n",
       "       1674.53969156, 1241.25076708, 1276.17792019, 1658.41347226,\n",
       "       1781.87966108,  771.52224788, 1331.52138677, 1241.43480371,\n",
       "       1154.1994181 , 1172.61207641, 1153.37089602, 1501.29587428,\n",
       "        811.29319269,  900.44887079, 1295.73603263,  928.21398351,\n",
       "       1573.63499518, 1335.41140578, 1437.25427254, 1351.30229441,\n",
       "        898.71208105, 1190.99642984, 1269.14620894,  891.29761313,\n",
       "       1242.3538839 , 1725.26393329, 1303.91096562, 1306.380219  ,\n",
       "       1774.29031051, 1613.39150322,  922.99122526, 1206.50082411,\n",
       "        933.37154157, 1279.79797077, 1126.00768383,  939.85746769,\n",
       "       1380.4970317 , 1604.86416591, 1227.97690505, 1319.12422167,\n",
       "       1331.1254407 , 1473.05048542, 1275.23947842, 1198.79647448,\n",
       "       1291.32193267, 1098.13991682,  794.76259268, 1249.28954502,\n",
       "       1547.97761357, 1463.54546562, 1715.20566434, 1253.86593499,\n",
       "       1959.01107722, 1953.3878184 ,  966.44128648, 1226.16439036,\n",
       "       1594.53328505, 1290.59962139, 1506.74983858, 1201.01376002,\n",
       "       1089.72668179, 1269.71880639, 1229.53140589, 1286.11411347,\n",
       "       1267.93142273,  724.81113068, 1402.52633546, 1292.47386826,\n",
       "        940.71715697, 1238.17729878, 1712.80301738, 1768.84741482,\n",
       "        890.74181588, 1637.00296715, 1278.45835007, 1776.44113962,\n",
       "        908.90865779,  859.79292739, 1290.83100663, 1514.27292727,\n",
       "       1321.52024623,  871.79661109, 1259.27261123, 1193.94572136,\n",
       "       1717.27199021, 1229.52586161, 1154.46203824, 1338.70241074,\n",
       "        952.2768611 , 1563.1310204 , 1162.06653766, 1209.05487675,\n",
       "       1109.30060577, 1217.50482654, 1078.53970201, 1191.29859939,\n",
       "       1288.58162727, 1254.10889436, 1188.49617999, 1239.49767935,\n",
       "       1278.97422434, 1283.34410017, 1271.59298552, 1216.26929921,\n",
       "       1164.4516183 , 1844.78034751, 1311.26868927, 1290.55239735,\n",
       "       1226.47243295, 1894.90384174,  909.65822423, 1733.7591402 ,\n",
       "       1267.79806568,  919.22226441, 1478.69172421,  823.11256433,\n",
       "       1133.50887066, 1176.99687911,  961.29922928,  995.17118115,\n",
       "       1233.11917738, 1294.4057818 , 1164.14649842, 1343.98228583,\n",
       "       1426.70653449, 1214.27139176, 1309.44821538, 1303.62940462,\n",
       "       1311.56177636, 1200.73124331, 1681.85574362, 1512.95414985,\n",
       "       1114.38317854,  966.34967239, 1228.95314499, 1195.31894031,\n",
       "       1269.12667209, 1381.62764937, 1128.66099215, 1280.70687747,\n",
       "       1546.53209076, 1709.78142273, 1491.68888334, 1289.64769464,\n",
       "       1534.73219313, 1642.65273074, 1323.71647006, 1310.67922565,\n",
       "       1625.24757518, 1271.23130438, 1291.33361756, 1289.42962102,\n",
       "       1281.62832529, 1289.40568728, 1583.71751502, 1655.12806145,\n",
       "       1273.45879305, 1186.90118961, 1849.25943825, 1538.35005521,\n",
       "        958.36608409,  889.40571183,  953.85865937, 1320.32030195,\n",
       "       1142.33126444, 1091.59220178, 1770.56269544, 1660.7281372 ,\n",
       "       1282.4217872 , 1289.36286661,  963.88531197, 1696.52472436,\n",
       "       1087.27606022,  876.87063304,  791.16881766, 1192.89308607,\n",
       "       1529.03445829, 1500.92133124, 1197.36998117,  875.29207785,\n",
       "       1228.61682316, 1252.63146603, 1957.95424848,  751.69676973,\n",
       "       1563.9293663 , 1278.91510541, 1319.390646  , 1195.29456575,\n",
       "       1336.79597003, 1289.30948294, 1293.09095114,  903.65218242,\n",
       "       1292.04889196, 1615.36454361, 1093.46211254, 1384.33410332,\n",
       "       1261.69094847, 1054.64532954, 1770.23691634, 1872.94108182,\n",
       "       1258.92363795, 1389.65419798, 1319.25400165, 1150.05013026,\n",
       "       1164.86330411, 1264.03055618, 1201.40235149, 1668.1003813 ,\n",
       "        998.74611559, 1667.06997765, 1387.20083172, 1611.22928737,\n",
       "       1815.52062551, 1359.78546318, 1318.8112913 , 1752.99121114,\n",
       "       1905.16037456, 1203.74361589, 1312.5899893 ,  924.91906548,\n",
       "       1199.1026638 , 1201.29593584, 1153.11924739, 1332.77632239,\n",
       "       1977.33711179, 1272.06551772,  879.72795379,  921.42449038,\n",
       "       1572.65947342, 1122.11698412, 1341.34870067, 1137.84106336,\n",
       "       1516.08951227, 1245.65473197, 1732.26464102, 1659.17270005,\n",
       "       1206.55986986, 1222.15351741, 1790.49433596, 1298.17385109,\n",
       "        991.78127226, 1314.99620024, 1267.37718547, 1290.3720767 ,\n",
       "       1229.61348062, 1198.43401056, 1089.96135022, 1254.86375417,\n",
       "        846.31442031,  925.51043893, 1221.30919862, 1274.8569452 ,\n",
       "       1454.93756204, 1288.80341265, 1844.13708464,  903.00581692,\n",
       "       1641.54653491, 1436.1966354 , 1463.74673908,  802.11922815,\n",
       "       1283.45443123, 1759.05197184, 1630.14895809, 1427.62665112,\n",
       "       1246.84998707, 1286.40827667, 1328.19591235, 1336.16570803,\n",
       "       1413.43978427, 1669.96053632, 1228.0023436 ,  871.81777976,\n",
       "       1297.66358538, 1141.37408365, 1129.07749671, 1568.09350948,\n",
       "       1713.69714047, 1189.01135854, 1660.88105239, 1186.86694533,\n",
       "       1225.60525933, 1431.38035872, 1195.19496292, 1339.90518061,\n",
       "       1295.2599997 , 1235.03315055, 1103.98630401, 1191.22754857,\n",
       "       1477.54500914, 1070.32813515, 1170.19710558, 1169.09909785,\n",
       "       1191.79258535, 1369.52920389, 1608.00657326, 1153.59333402,\n",
       "       1143.75431524, 1787.73608008, 1328.0203686 , 1103.74302843,\n",
       "       1166.49530751, 1109.19315854, 1278.11303019, 1269.01764369,\n",
       "       1658.93139046, 1526.58829161, 1931.40572365, 1942.38453962,\n",
       "        887.72132875, 1248.52229303, 1243.17638121, 1272.33791962,\n",
       "       1714.55028097,  928.59261818, 1320.38091912,  903.49368485,\n",
       "       1938.00791131, 1675.78352933, 1564.7767776 , 1244.53975759,\n",
       "       1462.09120357, 1557.73198022, 1713.22084519, 1206.36114925,\n",
       "        821.89227722, 1294.82993652, 1652.54601966, 1307.85790679,\n",
       "       1510.75004455, 1659.01455159, 1242.05686392, 1756.72246622,\n",
       "       1169.62681519, 1262.20074252, 1410.26462939, 1664.71997865,\n",
       "       1248.24159526, 1211.89778565, 1187.96969585, 1325.40851513,\n",
       "       1135.06054097, 1160.29473829,  818.25928352, 1797.73697964,\n",
       "       1266.32415188, 1561.67157038, 1285.24407699, 1253.65539958,\n",
       "       1080.13791876,  749.34614599, 1331.59659362, 1347.24167179,\n",
       "       1521.60053465, 1721.8514083 , 1255.52459394, 1812.38618306,\n",
       "        957.11309346, 1278.7773871 , 1766.0976071 , 1056.60762736,\n",
       "       1410.36964204, 1720.51626482, 1225.3414027 , 1070.37158777,\n",
       "        840.52889577, 1155.35673603,  848.59019685, 1246.64759843,\n",
       "       1850.34594852, 1686.64680976, 1320.76352262, 1340.59920463,\n",
       "       1231.12201405, 1228.56150039, 1575.22980024, 1555.13135385,\n",
       "       1848.04061671, 1539.07582051, 1269.59317685, 1342.45019931,\n",
       "        947.59243307, 1694.67013593, 1496.22840844, 1251.96296198,\n",
       "       1313.86125679, 1176.91714519, 1614.88367707, 1301.99334789,\n",
       "       1495.78723392, 1527.62663406,  878.29834142, 1701.26156538,\n",
       "       1203.00768639, 1634.24793622,  892.34488397, 1675.99988495,\n",
       "       1332.33919697, 1091.72260191, 1382.82837315,  879.33996776,\n",
       "       1412.93756402, 1267.21790486, 1391.06180228, 1254.69201843,\n",
       "       1175.98340327])"
      ]
     },
     "execution_count": 48,
     "metadata": {},
     "output_type": "execute_result"
    }
   ],
   "source": [
    "pred1"
   ]
  },
  {
   "cell_type": "code",
   "execution_count": 49,
   "id": "b0c64d3c-527d-44d2-ac4f-5e51227ade89",
   "metadata": {
    "tags": []
   },
   "outputs": [
    {
     "name": "stdout",
     "output_type": "stream",
     "text": [
      "MSE- 27.472312298993653\n",
      "RMSE- 5.241403657322498\n",
      "R2_Score- 0.9995883344184746\n"
     ]
    }
   ],
   "source": [
    "# Mean Square error ---> MSE\n",
    "#Root Mean Square error ----> sqrt(MSE)\n",
    "from sklearn.metrics import mean_squared_error , r2_score\n",
    "'''\n",
    "   y_test:- ground truth\n",
    "   y_pred:- model predict \n",
    "   \n",
    "'''\n",
    "def calculate_metrics(y_test,y_pred):\n",
    "    mse = mean_squared_error(y_test,y_pred)\n",
    "    rmse = np.sqrt(mse)\n",
    "    r2_scores = r2_score(y_test, y_pred)\n",
    "    \n",
    "    print(\"MSE-\",mse)\n",
    "    print(\"RMSE-\",rmse)\n",
    "    print(\"R2_Score-\",r2_scores)\n",
    "    \n",
    "calculate_metrics(y_test,pred1)"
   ]
  },
  {
   "cell_type": "code",
   "execution_count": 50,
   "id": "b92a5a42-7f5d-400b-9e28-217d3bc735ae",
   "metadata": {
    "tags": []
   },
   "outputs": [
    {
     "name": "stderr",
     "output_type": "stream",
     "text": [
      "c:\\users\\hp\\appdata\\local\\programs\\python\\python39\\lib\\site-packages\\sklearn\\linear_model\\_coordinate_descent.py:631: ConvergenceWarning: Objective did not converge. You might want to increase the number of iterations, check the scale of the features or consider increasing regularisation. Duality gap: 5.847e+04, tolerance: 1.826e+04\n",
      "  model = cd_fast.enet_coordinate_descent(\n"
     ]
    }
   ],
   "source": [
    "from sklearn.linear_model import Lasso, Ridge \n",
    "\n",
    "la = Lasso().fit(X_train, y_train )\n",
    "ri = Ridge().fit(X_train, y_train ) \n",
    "\n",
    "la_p = la.predict(X_test) \n",
    "ri_p = ri.predict(X_test)"
   ]
  },
  {
   "cell_type": "code",
   "execution_count": 51,
   "id": "95b216b7-6d76-4799-b0a2-e0db6d919a5b",
   "metadata": {
    "tags": []
   },
   "outputs": [
    {
     "name": "stdout",
     "output_type": "stream",
     "text": [
      "MSE- 46.190175348279055\n",
      "RMSE- 6.796335435238541\n",
      "R2_Score- 0.9993078520224814\n"
     ]
    }
   ],
   "source": [
    "calculate_metrics(y_test, la_p)"
   ]
  },
  {
   "cell_type": "code",
   "execution_count": 52,
   "id": "42008baa-0b1f-476d-83bd-0b3081edd805",
   "metadata": {
    "tags": []
   },
   "outputs": [
    {
     "name": "stdout",
     "output_type": "stream",
     "text": [
      "MSE- 27.472342705435747\n",
      "RMSE- 5.241406557922763\n",
      "R2_Score- 0.9995883339628419\n"
     ]
    }
   ],
   "source": [
    "calculate_metrics(y_test, ri_p)"
   ]
  },
  {
   "cell_type": "code",
   "execution_count": 53,
   "id": "e36a0374-5b50-4dd1-90fd-cacb2a9ca084",
   "metadata": {
    "tags": []
   },
   "outputs": [
    {
     "name": "stdout",
     "output_type": "stream",
     "text": [
      "Fitting 5 folds for each of 25 candidates, totalling 125 fits\n",
      "[CV 1/5] END .......C=0.1, gamma=1, kernel=rbf;, score=-0.019 total time=   0.5s\n",
      "[CV 2/5] END .......C=0.1, gamma=1, kernel=rbf;, score=-0.028 total time=   0.4s\n",
      "[CV 3/5] END .......C=0.1, gamma=1, kernel=rbf;, score=-0.003 total time=   0.4s\n",
      "[CV 4/5] END .......C=0.1, gamma=1, kernel=rbf;, score=-0.009 total time=   0.3s\n",
      "[CV 5/5] END .......C=0.1, gamma=1, kernel=rbf;, score=-0.033 total time=   0.3s\n",
      "[CV 1/5] END .....C=0.1, gamma=0.1, kernel=rbf;, score=-0.019 total time=   0.3s\n",
      "[CV 2/5] END .....C=0.1, gamma=0.1, kernel=rbf;, score=-0.028 total time=   0.3s\n",
      "[CV 3/5] END .....C=0.1, gamma=0.1, kernel=rbf;, score=-0.003 total time=   0.3s\n",
      "[CV 4/5] END .....C=0.1, gamma=0.1, kernel=rbf;, score=-0.009 total time=   0.3s\n",
      "[CV 5/5] END .....C=0.1, gamma=0.1, kernel=rbf;, score=-0.033 total time=   0.3s\n",
      "[CV 1/5] END ....C=0.1, gamma=0.01, kernel=rbf;, score=-0.019 total time=   0.3s\n",
      "[CV 2/5] END ....C=0.1, gamma=0.01, kernel=rbf;, score=-0.027 total time=   0.3s\n",
      "[CV 3/5] END ....C=0.1, gamma=0.01, kernel=rbf;, score=-0.002 total time=   0.3s\n",
      "[CV 4/5] END ....C=0.1, gamma=0.01, kernel=rbf;, score=-0.009 total time=   0.3s\n",
      "[CV 5/5] END ....C=0.1, gamma=0.01, kernel=rbf;, score=-0.033 total time=   0.3s\n",
      "[CV 1/5] END ...C=0.1, gamma=0.001, kernel=rbf;, score=-0.017 total time=   0.3s\n",
      "[CV 2/5] END ...C=0.1, gamma=0.001, kernel=rbf;, score=-0.025 total time=   0.3s\n",
      "[CV 3/5] END ....C=0.1, gamma=0.001, kernel=rbf;, score=0.000 total time=   0.3s\n",
      "[CV 4/5] END ...C=0.1, gamma=0.001, kernel=rbf;, score=-0.006 total time=   0.3s\n",
      "[CV 5/5] END ...C=0.1, gamma=0.001, kernel=rbf;, score=-0.031 total time=   0.3s\n",
      "[CV 1/5] END ..C=0.1, gamma=0.0001, kernel=rbf;, score=-0.001 total time=   0.2s\n",
      "[CV 2/5] END ..C=0.1, gamma=0.0001, kernel=rbf;, score=-0.006 total time=   0.2s\n",
      "[CV 3/5] END ...C=0.1, gamma=0.0001, kernel=rbf;, score=0.017 total time=   0.2s\n",
      "[CV 4/5] END ...C=0.1, gamma=0.0001, kernel=rbf;, score=0.014 total time=   0.2s\n",
      "[CV 5/5] END ..C=0.1, gamma=0.0001, kernel=rbf;, score=-0.013 total time=   0.3s\n",
      "[CV 1/5] END .........C=1, gamma=1, kernel=rbf;, score=-0.019 total time=   0.5s\n",
      "[CV 2/5] END .........C=1, gamma=1, kernel=rbf;, score=-0.027 total time=   0.4s\n",
      "[CV 3/5] END .........C=1, gamma=1, kernel=rbf;, score=-0.003 total time=   0.3s\n",
      "[CV 4/5] END .........C=1, gamma=1, kernel=rbf;, score=-0.009 total time=   0.3s\n",
      "[CV 5/5] END .........C=1, gamma=1, kernel=rbf;, score=-0.033 total time=   0.3s\n",
      "[CV 1/5] END .......C=1, gamma=0.1, kernel=rbf;, score=-0.019 total time=   0.3s\n",
      "[CV 2/5] END .......C=1, gamma=0.1, kernel=rbf;, score=-0.027 total time=   0.3s\n",
      "[CV 3/5] END .......C=1, gamma=0.1, kernel=rbf;, score=-0.003 total time=   0.3s\n",
      "[CV 4/5] END .......C=1, gamma=0.1, kernel=rbf;, score=-0.009 total time=   0.3s\n",
      "[CV 5/5] END .......C=1, gamma=0.1, kernel=rbf;, score=-0.033 total time=   0.3s\n",
      "[CV 1/5] END ......C=1, gamma=0.01, kernel=rbf;, score=-0.017 total time=   0.3s\n",
      "[CV 2/5] END ......C=1, gamma=0.01, kernel=rbf;, score=-0.026 total time=   0.3s\n",
      "[CV 3/5] END ......C=1, gamma=0.01, kernel=rbf;, score=-0.000 total time=   0.4s\n",
      "[CV 4/5] END ......C=1, gamma=0.01, kernel=rbf;, score=-0.007 total time=   0.3s\n",
      "[CV 5/5] END ......C=1, gamma=0.01, kernel=rbf;, score=-0.032 total time=   0.3s\n",
      "[CV 1/5] END ......C=1, gamma=0.001, kernel=rbf;, score=0.004 total time=   0.3s\n",
      "[CV 2/5] END .....C=1, gamma=0.001, kernel=rbf;, score=-0.002 total time=   0.3s\n",
      "[CV 3/5] END ......C=1, gamma=0.001, kernel=rbf;, score=0.023 total time=   0.3s\n",
      "[CV 4/5] END ......C=1, gamma=0.001, kernel=rbf;, score=0.020 total time=   0.3s\n",
      "[CV 5/5] END .....C=1, gamma=0.001, kernel=rbf;, score=-0.008 total time=   0.3s\n",
      "[CV 1/5] END .....C=1, gamma=0.0001, kernel=rbf;, score=0.136 total time=   0.2s\n",
      "[CV 2/5] END .....C=1, gamma=0.0001, kernel=rbf;, score=0.146 total time=   0.2s\n",
      "[CV 3/5] END .....C=1, gamma=0.0001, kernel=rbf;, score=0.155 total time=   0.2s\n",
      "[CV 4/5] END .....C=1, gamma=0.0001, kernel=rbf;, score=0.164 total time=   0.2s\n",
      "[CV 5/5] END .....C=1, gamma=0.0001, kernel=rbf;, score=0.131 total time=   0.2s\n",
      "[CV 1/5] END ........C=10, gamma=1, kernel=rbf;, score=-0.020 total time=   0.3s\n",
      "[CV 2/5] END ........C=10, gamma=1, kernel=rbf;, score=-0.028 total time=   0.3s\n",
      "[CV 3/5] END ........C=10, gamma=1, kernel=rbf;, score=-0.003 total time=   0.4s\n",
      "[CV 4/5] END ........C=10, gamma=1, kernel=rbf;, score=-0.009 total time=   0.4s\n",
      "[CV 5/5] END ........C=10, gamma=1, kernel=rbf;, score=-0.032 total time=   0.3s\n",
      "[CV 1/5] END ......C=10, gamma=0.1, kernel=rbf;, score=-0.019 total time=   0.3s\n",
      "[CV 2/5] END ......C=10, gamma=0.1, kernel=rbf;, score=-0.028 total time=   0.3s\n",
      "[CV 3/5] END ......C=10, gamma=0.1, kernel=rbf;, score=-0.002 total time=   0.4s\n",
      "[CV 4/5] END ......C=10, gamma=0.1, kernel=rbf;, score=-0.008 total time=   0.4s\n",
      "[CV 5/5] END ......C=10, gamma=0.1, kernel=rbf;, score=-0.032 total time=   0.4s\n",
      "[CV 1/5] END .....C=10, gamma=0.01, kernel=rbf;, score=-0.000 total time=   0.4s\n",
      "[CV 2/5] END .....C=10, gamma=0.01, kernel=rbf;, score=-0.009 total time=   0.3s\n",
      "[CV 3/5] END ......C=10, gamma=0.01, kernel=rbf;, score=0.019 total time=   0.3s\n",
      "[CV 4/5] END ......C=10, gamma=0.01, kernel=rbf;, score=0.011 total time=   0.3s\n",
      "[CV 5/5] END .....C=10, gamma=0.01, kernel=rbf;, score=-0.014 total time=   0.3s\n",
      "[CV 1/5] END .....C=10, gamma=0.001, kernel=rbf;, score=0.170 total time=   0.3s\n",
      "[CV 2/5] END .....C=10, gamma=0.001, kernel=rbf;, score=0.176 total time=   0.3s\n",
      "[CV 3/5] END .....C=10, gamma=0.001, kernel=rbf;, score=0.186 total time=   0.3s\n",
      "[CV 4/5] END .....C=10, gamma=0.001, kernel=rbf;, score=0.195 total time=   0.3s\n",
      "[CV 5/5] END .....C=10, gamma=0.001, kernel=rbf;, score=0.158 total time=   0.3s\n",
      "[CV 1/5] END ....C=10, gamma=0.0001, kernel=rbf;, score=0.580 total time=   0.2s\n",
      "[CV 2/5] END ....C=10, gamma=0.0001, kernel=rbf;, score=0.655 total time=   0.2s\n",
      "[CV 3/5] END ....C=10, gamma=0.0001, kernel=rbf;, score=0.626 total time=   0.2s\n",
      "[CV 4/5] END ....C=10, gamma=0.0001, kernel=rbf;, score=0.621 total time=   0.2s\n",
      "[CV 5/5] END ....C=10, gamma=0.0001, kernel=rbf;, score=0.599 total time=   0.2s\n",
      "[CV 1/5] END .......C=100, gamma=1, kernel=rbf;, score=-0.016 total time=   0.4s\n",
      "[CV 2/5] END .......C=100, gamma=1, kernel=rbf;, score=-0.024 total time=   0.4s\n",
      "[CV 3/5] END .......C=100, gamma=1, kernel=rbf;, score=-0.001 total time=   0.4s\n",
      "[CV 4/5] END .......C=100, gamma=1, kernel=rbf;, score=-0.006 total time=   0.4s\n",
      "[CV 5/5] END .......C=100, gamma=1, kernel=rbf;, score=-0.027 total time=   0.4s\n",
      "[CV 1/5] END .....C=100, gamma=0.1, kernel=rbf;, score=-0.006 total time=   0.4s\n",
      "[CV 2/5] END .....C=100, gamma=0.1, kernel=rbf;, score=-0.017 total time=   0.4s\n",
      "[CV 3/5] END ......C=100, gamma=0.1, kernel=rbf;, score=0.008 total time=   0.4s\n",
      "[CV 4/5] END .....C=100, gamma=0.1, kernel=rbf;, score=-0.001 total time=   0.4s\n",
      "[CV 5/5] END .....C=100, gamma=0.1, kernel=rbf;, score=-0.020 total time=   0.4s\n",
      "[CV 1/5] END .....C=100, gamma=0.01, kernel=rbf;, score=0.131 total time=   0.4s\n",
      "[CV 2/5] END .....C=100, gamma=0.01, kernel=rbf;, score=0.116 total time=   0.4s\n",
      "[CV 3/5] END .....C=100, gamma=0.01, kernel=rbf;, score=0.139 total time=   0.4s\n",
      "[CV 4/5] END .....C=100, gamma=0.01, kernel=rbf;, score=0.124 total time=   0.4s\n",
      "[CV 5/5] END .....C=100, gamma=0.01, kernel=rbf;, score=0.106 total time=   0.4s\n",
      "[CV 1/5] END ....C=100, gamma=0.001, kernel=rbf;, score=0.533 total time=   0.7s\n",
      "[CV 2/5] END ....C=100, gamma=0.001, kernel=rbf;, score=0.609 total time=   0.7s\n",
      "[CV 3/5] END ....C=100, gamma=0.001, kernel=rbf;, score=0.591 total time=   0.8s\n",
      "[CV 4/5] END ....C=100, gamma=0.001, kernel=rbf;, score=0.585 total time=   0.7s\n",
      "[CV 5/5] END ....C=100, gamma=0.001, kernel=rbf;, score=0.556 total time=   0.8s\n",
      "[CV 1/5] END ...C=100, gamma=0.0001, kernel=rbf;, score=0.814 total time=   0.5s\n",
      "[CV 2/5] END ...C=100, gamma=0.0001, kernel=rbf;, score=0.890 total time=   0.6s\n",
      "[CV 3/5] END ...C=100, gamma=0.0001, kernel=rbf;, score=0.879 total time=   0.6s\n",
      "[CV 4/5] END ...C=100, gamma=0.0001, kernel=rbf;, score=0.842 total time=   0.6s\n",
      "[CV 5/5] END ...C=100, gamma=0.0001, kernel=rbf;, score=0.853 total time=   0.6s\n",
      "[CV 1/5] END .......C=1000, gamma=1, kernel=rbf;, score=0.001 total time=   0.5s\n",
      "[CV 2/5] END ......C=1000, gamma=1, kernel=rbf;, score=-0.002 total time=   0.5s\n",
      "[CV 3/5] END ......C=1000, gamma=1, kernel=rbf;, score=-0.004 total time=   0.5s\n",
      "[CV 4/5] END ......C=1000, gamma=1, kernel=rbf;, score=-0.002 total time=   0.5s\n",
      "[CV 5/5] END ......C=1000, gamma=1, kernel=rbf;, score=-0.002 total time=   0.5s\n",
      "[CV 1/5] END .....C=1000, gamma=0.1, kernel=rbf;, score=0.025 total time=   0.5s\n",
      "[CV 2/5] END .....C=1000, gamma=0.1, kernel=rbf;, score=0.013 total time=   0.5s\n",
      "[CV 3/5] END .....C=1000, gamma=0.1, kernel=rbf;, score=0.020 total time=   0.5s\n",
      "[CV 4/5] END .....C=1000, gamma=0.1, kernel=rbf;, score=0.007 total time=   0.5s\n",
      "[CV 5/5] END .....C=1000, gamma=0.1, kernel=rbf;, score=0.013 total time=   0.5s\n",
      "[CV 1/5] END ....C=1000, gamma=0.01, kernel=rbf;, score=0.251 total time=   0.7s\n",
      "[CV 2/5] END ....C=1000, gamma=0.01, kernel=rbf;, score=0.255 total time=   0.6s\n",
      "[CV 3/5] END ....C=1000, gamma=0.01, kernel=rbf;, score=0.250 total time=   0.8s\n",
      "[CV 4/5] END ....C=1000, gamma=0.01, kernel=rbf;, score=0.232 total time=   0.7s\n",
      "[CV 5/5] END ....C=1000, gamma=0.01, kernel=rbf;, score=0.224 total time=   0.8s\n",
      "[CV 1/5] END ...C=1000, gamma=0.001, kernel=rbf;, score=0.651 total time=   5.1s\n",
      "[CV 2/5] END ...C=1000, gamma=0.001, kernel=rbf;, score=0.750 total time=   5.4s\n",
      "[CV 3/5] END ...C=1000, gamma=0.001, kernel=rbf;, score=0.730 total time=   5.8s\n",
      "[CV 4/5] END ...C=1000, gamma=0.001, kernel=rbf;, score=0.693 total time=   4.1s\n",
      "[CV 5/5] END ...C=1000, gamma=0.001, kernel=rbf;, score=0.727 total time=   6.0s\n",
      "[CV 1/5] END ..C=1000, gamma=0.0001, kernel=rbf;, score=0.857 total time=   7.2s\n",
      "[CV 2/5] END ..C=1000, gamma=0.0001, kernel=rbf;, score=0.925 total time=   6.1s\n",
      "[CV 3/5] END ..C=1000, gamma=0.0001, kernel=rbf;, score=0.912 total time=   5.5s\n",
      "[CV 4/5] END ..C=1000, gamma=0.0001, kernel=rbf;, score=0.887 total time=   6.1s\n",
      "[CV 5/5] END ..C=1000, gamma=0.0001, kernel=rbf;, score=0.890 total time=   6.6s\n"
     ]
    },
    {
     "data": {
      "text/html": [
       "<style>#sk-container-id-1 {color: black;background-color: white;}#sk-container-id-1 pre{padding: 0;}#sk-container-id-1 div.sk-toggleable {background-color: white;}#sk-container-id-1 label.sk-toggleable__label {cursor: pointer;display: block;width: 100%;margin-bottom: 0;padding: 0.3em;box-sizing: border-box;text-align: center;}#sk-container-id-1 label.sk-toggleable__label-arrow:before {content: \"▸\";float: left;margin-right: 0.25em;color: #696969;}#sk-container-id-1 label.sk-toggleable__label-arrow:hover:before {color: black;}#sk-container-id-1 div.sk-estimator:hover label.sk-toggleable__label-arrow:before {color: black;}#sk-container-id-1 div.sk-toggleable__content {max-height: 0;max-width: 0;overflow: hidden;text-align: left;background-color: #f0f8ff;}#sk-container-id-1 div.sk-toggleable__content pre {margin: 0.2em;color: black;border-radius: 0.25em;background-color: #f0f8ff;}#sk-container-id-1 input.sk-toggleable__control:checked~div.sk-toggleable__content {max-height: 200px;max-width: 100%;overflow: auto;}#sk-container-id-1 input.sk-toggleable__control:checked~label.sk-toggleable__label-arrow:before {content: \"▾\";}#sk-container-id-1 div.sk-estimator input.sk-toggleable__control:checked~label.sk-toggleable__label {background-color: #d4ebff;}#sk-container-id-1 div.sk-label input.sk-toggleable__control:checked~label.sk-toggleable__label {background-color: #d4ebff;}#sk-container-id-1 input.sk-hidden--visually {border: 0;clip: rect(1px 1px 1px 1px);clip: rect(1px, 1px, 1px, 1px);height: 1px;margin: -1px;overflow: hidden;padding: 0;position: absolute;width: 1px;}#sk-container-id-1 div.sk-estimator {font-family: monospace;background-color: #f0f8ff;border: 1px dotted black;border-radius: 0.25em;box-sizing: border-box;margin-bottom: 0.5em;}#sk-container-id-1 div.sk-estimator:hover {background-color: #d4ebff;}#sk-container-id-1 div.sk-parallel-item::after {content: \"\";width: 100%;border-bottom: 1px solid gray;flex-grow: 1;}#sk-container-id-1 div.sk-label:hover label.sk-toggleable__label {background-color: #d4ebff;}#sk-container-id-1 div.sk-serial::before {content: \"\";position: absolute;border-left: 1px solid gray;box-sizing: border-box;top: 0;bottom: 0;left: 50%;z-index: 0;}#sk-container-id-1 div.sk-serial {display: flex;flex-direction: column;align-items: center;background-color: white;padding-right: 0.2em;padding-left: 0.2em;position: relative;}#sk-container-id-1 div.sk-item {position: relative;z-index: 1;}#sk-container-id-1 div.sk-parallel {display: flex;align-items: stretch;justify-content: center;background-color: white;position: relative;}#sk-container-id-1 div.sk-item::before, #sk-container-id-1 div.sk-parallel-item::before {content: \"\";position: absolute;border-left: 1px solid gray;box-sizing: border-box;top: 0;bottom: 0;left: 50%;z-index: -1;}#sk-container-id-1 div.sk-parallel-item {display: flex;flex-direction: column;z-index: 1;position: relative;background-color: white;}#sk-container-id-1 div.sk-parallel-item:first-child::after {align-self: flex-end;width: 50%;}#sk-container-id-1 div.sk-parallel-item:last-child::after {align-self: flex-start;width: 50%;}#sk-container-id-1 div.sk-parallel-item:only-child::after {width: 0;}#sk-container-id-1 div.sk-dashed-wrapped {border: 1px dashed gray;margin: 0 0.4em 0.5em 0.4em;box-sizing: border-box;padding-bottom: 0.4em;background-color: white;}#sk-container-id-1 div.sk-label label {font-family: monospace;font-weight: bold;display: inline-block;line-height: 1.2em;}#sk-container-id-1 div.sk-label-container {text-align: center;}#sk-container-id-1 div.sk-container {/* jupyter's `normalize.less` sets `[hidden] { display: none; }` but bootstrap.min.css set `[hidden] { display: none !important; }` so we also need the `!important` here to be able to override the default hidden behavior on the sphinx rendered scikit-learn.org. See: https://github.com/scikit-learn/scikit-learn/issues/21755 */display: inline-block !important;position: relative;}#sk-container-id-1 div.sk-text-repr-fallback {display: none;}</style><div id=\"sk-container-id-1\" class=\"sk-top-container\"><div class=\"sk-text-repr-fallback\"><pre>GridSearchCV(estimator=SVR(),\n",
       "             param_grid={&#x27;C&#x27;: [0.1, 1, 10, 100, 1000],\n",
       "                         &#x27;gamma&#x27;: [1, 0.1, 0.01, 0.001, 0.0001],\n",
       "                         &#x27;kernel&#x27;: [&#x27;rbf&#x27;]},\n",
       "             verbose=3)</pre><b>In a Jupyter environment, please rerun this cell to show the HTML representation or trust the notebook. <br />On GitHub, the HTML representation is unable to render, please try loading this page with nbviewer.org.</b></div><div class=\"sk-container\" hidden><div class=\"sk-item sk-dashed-wrapped\"><div class=\"sk-label-container\"><div class=\"sk-label sk-toggleable\"><input class=\"sk-toggleable__control sk-hidden--visually\" id=\"sk-estimator-id-1\" type=\"checkbox\" ><label for=\"sk-estimator-id-1\" class=\"sk-toggleable__label sk-toggleable__label-arrow\">GridSearchCV</label><div class=\"sk-toggleable__content\"><pre>GridSearchCV(estimator=SVR(),\n",
       "             param_grid={&#x27;C&#x27;: [0.1, 1, 10, 100, 1000],\n",
       "                         &#x27;gamma&#x27;: [1, 0.1, 0.01, 0.001, 0.0001],\n",
       "                         &#x27;kernel&#x27;: [&#x27;rbf&#x27;]},\n",
       "             verbose=3)</pre></div></div></div><div class=\"sk-parallel\"><div class=\"sk-parallel-item\"><div class=\"sk-item\"><div class=\"sk-label-container\"><div class=\"sk-label sk-toggleable\"><input class=\"sk-toggleable__control sk-hidden--visually\" id=\"sk-estimator-id-2\" type=\"checkbox\" ><label for=\"sk-estimator-id-2\" class=\"sk-toggleable__label sk-toggleable__label-arrow\">estimator: SVR</label><div class=\"sk-toggleable__content\"><pre>SVR()</pre></div></div></div><div class=\"sk-serial\"><div class=\"sk-item\"><div class=\"sk-estimator sk-toggleable\"><input class=\"sk-toggleable__control sk-hidden--visually\" id=\"sk-estimator-id-3\" type=\"checkbox\" ><label for=\"sk-estimator-id-3\" class=\"sk-toggleable__label sk-toggleable__label-arrow\">SVR</label><div class=\"sk-toggleable__content\"><pre>SVR()</pre></div></div></div></div></div></div></div></div></div></div>"
      ],
      "text/plain": [
       "GridSearchCV(estimator=SVR(),\n",
       "             param_grid={'C': [0.1, 1, 10, 100, 1000],\n",
       "                         'gamma': [1, 0.1, 0.01, 0.001, 0.0001],\n",
       "                         'kernel': ['rbf']},\n",
       "             verbose=3)"
      ]
     },
     "execution_count": 53,
     "metadata": {},
     "output_type": "execute_result"
    }
   ],
   "source": [
    "from sklearn.svm import SVR \n",
    "from sklearn.model_selection import GridSearchCV \n",
    "\n",
    "svr = SVR() \n",
    "\n",
    "\n",
    "param_grid = {'C': [0.1, 1, 10, 100, 1000],  \n",
    "              'gamma': [1, 0.1, 0.01, 0.001, 0.0001], \n",
    "              'kernel': ['rbf']}   \n",
    "\n",
    "grid = GridSearchCV(SVR(), param_grid, refit=True, verbose=3)    \n",
    "grid.fit(X_train, y_train)"
   ]
  },
  {
   "cell_type": "code",
   "execution_count": 54,
   "id": "dc6fb698-a411-418f-893c-8f2832279840",
   "metadata": {
    "tags": []
   },
   "outputs": [],
   "source": [
    "svr = SVR(C=10, gamma=0.01, kernel='rbf') \n",
    "svr.fit(X_train, y_train) \n",
    "svr_pred = svr.predict(X_test)"
   ]
  },
  {
   "cell_type": "code",
   "execution_count": 55,
   "id": "96ddccfd-af8d-4a82-a579-98d28df237ea",
   "metadata": {
    "tags": []
   },
   "outputs": [],
   "source": [
    "import joblib  \n",
    "\n",
    "joblib.dump(ri, 'model.pkl') \n",
    "\n",
    "ridge_from_joblib = model = joblib.load(\"model.pkl\")"
   ]
  },
  {
   "cell_type": "code",
   "execution_count": null,
   "id": "e6544291-036c-4ce7-a4bd-e65294c0cd1c",
   "metadata": {},
   "outputs": [],
   "source": []
  }
 ],
 "metadata": {
  "kernelspec": {
   "display_name": "Python 3 (ipykernel)",
   "language": "python",
   "name": "python3"
  },
  "language_info": {
   "codemirror_mode": {
    "name": "ipython",
    "version": 3
   },
   "file_extension": ".py",
   "mimetype": "text/x-python",
   "name": "python",
   "nbconvert_exporter": "python",
   "pygments_lexer": "ipython3",
   "version": "3.9.0"
  }
 },
 "nbformat": 4,
 "nbformat_minor": 5
}
